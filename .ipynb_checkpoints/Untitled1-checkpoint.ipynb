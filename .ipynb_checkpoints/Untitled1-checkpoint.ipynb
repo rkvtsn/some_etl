{
 "cells": [
  {
   "cell_type": "code",
   "execution_count": 53,
   "metadata": {
    "collapsed": false
   },
   "outputs": [],
   "source": [
    "import threading\n",
    "\n",
    "class TimeInterval(object):\n",
    "    \"\"\" JS-like setInterval \"\"\"\n",
    "    def __init__(self, timeout, fn):\n",
    "        \"\"\"\n",
    "        :param timeout: timeout in seconds\n",
    "        :param fn: function\n",
    "        \"\"\"\n",
    "        if not callable(fn):\n",
    "            raise ValueError(\"fn must be a callable\")\n",
    "        self.t = None\n",
    "        self.fn = fn\n",
    "        self.timeout = timeout\n",
    "        self._is_running = False\n",
    "        self._is_stopped = False\n",
    "\n",
    "    def start(self):\n",
    "        \"\"\"Launch interval with init params\"\"\"\n",
    "        if self._is_running:\n",
    "            return\n",
    "        \n",
    "        def func_wrapper():\n",
    "            try:\n",
    "                timeout = self.fn()\n",
    "            except Exception as e:\n",
    "                raise Exception(e)\n",
    "            if timeout is not None:\n",
    "                self.timeout = timeout\n",
    "            self._is_running = False\n",
    "            if self._is_stopped:\n",
    "                return\n",
    "            self.start()\n",
    "        self.t = threading.Timer(self.timeout, func_wrapper)\n",
    "        self.t.start()\n",
    "        self._is_running = True\n",
    "        self._is_stopped = False\n",
    "\n",
    "    def stop(self):\n",
    "        \"\"\"Stop interval\"\"\"\n",
    "        if not self._is_running:\n",
    "            return\n",
    "        self._is_stopped = True\n",
    "        self.t.cancel()\n",
    "        self._is_running = False\n",
    "\n",
    "    def set_timeout(self, timeout):\n",
    "        \"\"\"Restart interval, reset timeout and launch\"\"\"\n",
    "        self.timeout = timeout\n",
    "        self.stop()\n",
    "        self.start()\n"
   ]
  },
  {
   "cell_type": "code",
   "execution_count": 54,
   "metadata": {
    "collapsed": true
   },
   "outputs": [],
   "source": [
    "def simulate_work(n=10000000):\n",
    "    for i in range(n + 1):\n",
    "        percentage = 100 * float(i) / n\n",
    "        if percentage % 10 == 0:\n",
    "            print percentage"
   ]
  },
  {
   "cell_type": "code",
   "execution_count": 55,
   "metadata": {
    "collapsed": true
   },
   "outputs": [],
   "source": [
    "timeout = 2"
   ]
  },
  {
   "cell_type": "code",
   "execution_count": 56,
   "metadata": {
    "collapsed": false
   },
   "outputs": [],
   "source": [
    "interval = TimeInterval(timeout, simulate_work)"
   ]
  },
  {
   "cell_type": "code",
   "execution_count": 59,
   "metadata": {
    "collapsed": false
   },
   "outputs": [
    {
     "name": "stdout",
     "output_type": "stream",
     "text": [
      "0.0\n",
      "10.0\n",
      "20.0\n",
      "30.0\n",
      "40.0\n",
      "50.0\n"
     ]
    }
   ],
   "source": [
    "interval.start()"
   ]
  },
  {
   "cell_type": "code",
   "execution_count": 62,
   "metadata": {
    "collapsed": false
   },
   "outputs": [],
   "source": [
    "interval.stop()"
   ]
  },
  {
   "cell_type": "code",
   "execution_count": 61,
   "metadata": {
    "collapsed": false
   },
   "outputs": [
    {
     "name": "stdout",
     "output_type": "stream",
     "text": [
      "0.0\n",
      "10.0\n",
      "20.0\n",
      "30.0\n",
      "40.0\n",
      "50.0\n",
      "60.0\n",
      "70.0\n",
      "80.0\n",
      "90.0\n",
      "100.0\n"
     ]
    }
   ],
   "source": [
    "interval.start()"
   ]
  },
  {
   "cell_type": "code",
   "execution_count": null,
   "metadata": {
    "collapsed": true
   },
   "outputs": [],
   "source": []
  }
 ],
 "metadata": {
  "kernelspec": {
   "display_name": "Python 2",
   "language": "python",
   "name": "python2"
  },
  "language_info": {
   "codemirror_mode": {
    "name": "ipython",
    "version": 2
   },
   "file_extension": ".py",
   "mimetype": "text/x-python",
   "name": "python",
   "nbconvert_exporter": "python",
   "pygments_lexer": "ipython2",
   "version": "2.7.13"
  }
 },
 "nbformat": 4,
 "nbformat_minor": 2
}
