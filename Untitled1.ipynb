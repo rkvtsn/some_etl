{
 "cells": [
  {
   "cell_type": "code",
   "execution_count": 7,
   "metadata": {
    "collapsed": true
   },
   "outputs": [],
   "source": [
    "#github.com/rkvtsn\n",
    "import threading\n",
    "\n",
    "\n",
    "class TimeInterval(object):\n",
    "    def __init__(self, timeout, fn):\n",
    "        \"\"\"\n",
    "        :param timeout: timeout in seconds\n",
    "        :param fn: function\n",
    "        \"\"\"\n",
    "        self.t = None\n",
    "        self.fn = fn\n",
    "        self.timeout = timeout\n",
    "        self._is_running = False\n",
    "\n",
    "    def start(self):\n",
    "        \"\"\"Launch interval with init params\"\"\"\n",
    "        if self._is_running:\n",
    "            return\n",
    "        def func_wrapper():\n",
    "            timeout = self.fn()\n",
    "            if timeout is not None:\n",
    "                self.timeout = timeout\n",
    "            self._is_running = False\n",
    "            self.start()\n",
    "        self.t = threading.Timer(self.timeout, func_wrapper)\n",
    "        self.t.start()\n",
    "        self._is_running = True\n",
    "\n",
    "    def stop(self):\n",
    "        \"\"\"Stop interval\"\"\"\n",
    "        if not self._is_running:\n",
    "            return\n",
    "        self._is_running = False\n",
    "        self.t.cancel()\n",
    "\n",
    "    def set_timeout(self, timeout):\n",
    "        \"\"\"Restart interval, reset timeout and launch\"\"\"\n",
    "        self.timeout = timeout\n",
    "        self.stop()\n",
    "        self.start()\n"
   ]
  },
  {
   "cell_type": "code",
   "execution_count": 8,
   "metadata": {
    "collapsed": true
   },
   "outputs": [],
   "source": [
    "import random\n",
    "counter = 0\n",
    "def sec_timeout():\n",
    "    global counter\n",
    "    counter += 1\n",
    "    print \"time: %s  \" % counter\n",
    "\n",
    "def rand_timeout():\n",
    "    sec = random.randint(5, 10)\n",
    "    print \"rand:  %s  \" % sec\n",
    "    return sec"
   ]
  },
  {
   "cell_type": "code",
   "execution_count": 9,
   "metadata": {
    "collapsed": false
   },
   "outputs": [],
   "source": [
    "rand = TimeInterval(1, rand_timeout)\n",
    "# sec = TimeInterval(1, sec_timeout)"
   ]
  },
  {
   "cell_type": "code",
   "execution_count": 10,
   "metadata": {
    "collapsed": false
   },
   "outputs": [
    {
     "name": "stdout",
     "output_type": "stream",
     "text": [
      "rand:  5  \n",
      "rand:  5  \n",
      "rand:  7  \n",
      "rand:  5  \n",
      "rand:  7  \n",
      "rand:  5  \n"
     ]
    }
   ],
   "source": [
    "#sec.start()\n",
    "rand.start()"
   ]
  },
  {
   "cell_type": "code",
   "execution_count": 6,
   "metadata": {
    "collapsed": false
   },
   "outputs": [
    {
     "ename": "NameError",
     "evalue": "name 'sec' is not defined",
     "output_type": "error",
     "traceback": [
      "\u001b[0;31m---------------------------------------------------------------------------\u001b[0m",
      "\u001b[0;31mNameError\u001b[0m                                 Traceback (most recent call last)",
      "\u001b[0;32m<ipython-input-6-91db286ebb2e>\u001b[0m in \u001b[0;36m<module>\u001b[0;34m()\u001b[0m\n\u001b[1;32m      1\u001b[0m \u001b[0mrand\u001b[0m\u001b[1;33m.\u001b[0m\u001b[0mstop\u001b[0m\u001b[1;33m(\u001b[0m\u001b[1;33m)\u001b[0m\u001b[1;33m\u001b[0m\u001b[0m\n\u001b[0;32m----> 2\u001b[0;31m \u001b[0msec\u001b[0m\u001b[1;33m.\u001b[0m\u001b[0mstop\u001b[0m\u001b[1;33m(\u001b[0m\u001b[1;33m)\u001b[0m\u001b[1;33m\u001b[0m\u001b[0m\n\u001b[0m",
      "\u001b[0;31mNameError\u001b[0m: name 'sec' is not defined"
     ]
    }
   ],
   "source": [
    "rand.stop()\n",
    "sec.stop()"
   ]
  },
  {
   "cell_type": "code",
   "execution_count": 10,
   "metadata": {
    "collapsed": false
   },
   "outputs": [],
   "source": [
    "o.stop()"
   ]
  },
  {
   "cell_type": "code",
   "execution_count": 11,
   "metadata": {
    "collapsed": false
   },
   "outputs": [
    {
     "data": {
      "text/plain": [
       "False"
      ]
     },
     "execution_count": 11,
     "metadata": {},
     "output_type": "execute_result"
    }
   ],
   "source": [
    "o._is_running"
   ]
  }
 ],
 "metadata": {
  "kernelspec": {
   "display_name": "Python 2",
   "language": "python",
   "name": "python2"
  },
  "language_info": {
   "codemirror_mode": {
    "name": "ipython",
    "version": 2
   },
   "file_extension": ".py",
   "mimetype": "text/x-python",
   "name": "python",
   "nbconvert_exporter": "python",
   "pygments_lexer": "ipython2",
   "version": "2.7.13"
  }
 },
 "nbformat": 4,
 "nbformat_minor": 2
}
